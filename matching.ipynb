{
  "cells": [
    {
      "cell_type": "code",
      "execution_count": null,
      "metadata": {
        "id": "7G7hSdTLXMBg"
      },
      "outputs": [],
      "source": [
        "import pandas as pd\n",
        "import numpy as np\n",
        "mentees = pd.read_csv('~/Downloads/Cohort 3 Data - Mentees.csv')\n",
        "mentors = pd.read_csv('~/Downloads/Cohort 3 Data - Mentors.csv')\n",
        "#Clean DF\n",
        "mentees_flitered = mentees.filter(items=[\"Id\",\n",
        "                 \"What's your email?\",\n",
        "                 'What role are you looking for help in?',\n",
        "                 \"Which best describes the position you're in?\",\n",
        "                 'How many years of professional experience do you have in your current role?',\n",
        "                 'What is the main goal you want help with from your mentor?',\n",
        "                 'How many years of experience do you have as a founder?',\n",
        "                 'What industry are you looking for help with?',\n",
        "                 'What company stage do you want your mentor to be in?',\n",
        "                 'What timezone are you in?',\n",
        "                 'Have you been matched before?',\n",
        "                 \"Tell us why you want to be a part of Lenny's Mentorship Program!\",\n",
        "                 'What is the main goal you want help with from your mentor?'\n",
        "                ])\n",
        "\n",
        "mentors_flitered = mentors.filter(items=[\"Id\",\n",
        "                 \"What's your email?\",\n",
        "                 'Which functional role do you want your mentee to be in?',\n",
        "                 \"Which best describes the position you're in?\",\n",
        "                 'How many years of professional experience do you have in the role you want to be a mentor for?',\n",
        "                 'Which goals can you help your mentee with?',\n",
        "                 'How many years of experience do you have as a founder?',\n",
        "                 'What industry can you help your mentee with?',\n",
        "                 'What company stage do you want your mentee to be in?',\n",
        "                 'What timezone are you in?',\n",
        "                 'Have you been matched before?',\n",
        "                 'What goals can you help your mentee with?'\n",
        "                ])\n",
        "#print(mentors.columns.values)\n",
        "#print(mentors_flitered.columns.values)\n",
        "#display(mentees_flitered)\n",
        "#display(mentors_flitered)\n"
      ]
    },
    {
      "cell_type": "code",
      "execution_count": null,
      "metadata": {
        "id": "ET5aNUoJXMBh"
      },
      "outputs": [],
      "source": [
        "#Input comma seperated list of value\n",
        "#Output list of values with whitespace stipped off\n",
        "def clean_multiselect(x):\n",
        "    if isinstance(x, str):\n",
        "        return list(map(str.strip,x.split(',')))\n",
        "    else:\n",
        "        return []\n"
      ]
    },
    {
      "cell_type": "code",
      "execution_count": null,
      "metadata": {
        "id": "ZYkiJDm-XMBh"
      },
      "outputs": [],
      "source": [
        "#Input Dataframe and multi-select field to Binarize\n",
        "from sklearn.preprocessing import MultiLabelBinarizer\n",
        "def MultiLableBinarize_df(input_frame, collumn_name):\n",
        "    nested_list = list(map(clean_multiselect,input_frame[collumn_name].to_list()))\n",
        "    mlb = MultiLabelBinarizer()\n",
        "    mlb_df = pd.DataFrame(mlb.fit_transform(nested_list), columns=mlb.classes_)\n",
        "    bigger = pd.concat([input_frame,mlb_df],axis=1)\n",
        "    return bigger\n"
      ]
    },
    {
      "cell_type": "code",
      "execution_count": null,
      "metadata": {
        "id": "wpNX-NECXMBh"
      },
      "outputs": [],
      "source": [
        "class multiSelect:\n",
        "    def __init__(self, data = ['empty']):\n",
        "        if isinstance(data, str):\n",
        "            self.data = clean_multiselect(data)\n",
        "        else:\n",
        "            self.data = data\n",
        "    def __repr__(self):\n",
        "        return repr(self.data)"
      ]
    },
    {
      "cell_type": "code",
      "execution_count": null,
      "metadata": {
        "id": "KsSBIj1-XMBh"
      },
      "outputs": [],
      "source": [
        "class distanceEstimator:\n",
        "    def __init__(x):\n",
        "        1==1\n",
        "    def estimateDistance(self, row):\n",
        "        #print(mentors.columns.values)\n",
        "        mentee = row['What industry are you looking for help with?'].data\n",
        "        mentor = row['What industry can you help your mentee with?'].data\n",
        "\n",
        "        distance_score = 1000\n",
        "        if isinstance(mentee,list) and isinstance(mentor,list):\n",
        "            for industry in mentor:\n",
        "                if industry in mentee:\n",
        "                    distance_score = distance_score - 50\n",
        "        return distance_score"
      ]
    },
    {
      "cell_type": "code",
      "execution_count": null,
      "metadata": {
        "id": "ZmWJQniwXMBh"
      },
      "outputs": [],
      "source": [
        "mentees_flitered['What industry are you looking for help with?'] = mentees_flitered['What industry are you looking for help with?'].apply(multiSelect)\n",
        "mentors_flitered['What industry can you help your mentee with?'] = mentors_flitered['What industry can you help your mentee with?'].apply(multiSelect)\n",
        "\n",
        "combined = mentors_flitered.join(mentees_flitered,how='cross',lsuffix='-mentor',rsuffix='-mentee')"
      ]
    },
    {
      "cell_type": "code",
      "execution_count": null,
      "metadata": {
        "id": "i9N59PRFXMBh"
      },
      "outputs": [],
      "source": [
        "dE = distanceEstimator()\n",
        "combined['distance_score'] = combined.apply(dE.estimateDistance, axis = 'columns')\n",
        "combined = combined.sort_values(by=['distance_score'])\n",
        "#display(combined)"
      ]
    },
    {
      "cell_type": "code",
      "execution_count": null,
      "metadata": {
        "id": "F__SZXxxXMBi",
        "outputId": "7e60c066-f58f-4eae-c33e-9523435d78f8"
      },
      "outputs": [
        {
          "name": "stdout",
          "output_type": "stream",
          "text": [
            "[{'Id-mentor': 319, 'Id-mentee': 224.0, 'distance_score': 900}, {'Id-mentor': 316, 'Id-mentee': 24.0, 'distance_score': 900}, {'Id-mentor': 321, 'Id-mentee': 49.0, 'distance_score': 900}, {'Id-mentor': 328, 'Id-mentee': 136.0, 'distance_score': 900}, {'Id-mentor': 314, 'Id-mentee': 73.0, 'distance_score': 900}, {'Id-mentor': 97, 'Id-mentee': 139.0, 'distance_score': 900}, {'Id-mentor': 87, 'Id-mentee': 87.0, 'distance_score': 900}, {'Id-mentor': 69, 'Id-mentee': 69.0, 'distance_score': 900}, {'Id-mentor': 231, 'Id-mentee': 58.0, 'distance_score': 900}, {'Id-mentor': 212, 'Id-mentee': 117.0, 'distance_score': 900}, {'Id-mentor': 216, 'Id-mentee': 118.0, 'distance_score': 900}, {'Id-mentor': 301, 'Id-mentee': 26.0, 'distance_score': 900}, {'Id-mentor': 200, 'Id-mentee': 187.0, 'distance_score': 900}, {'Id-mentor': 21, 'Id-mentee': 171.0, 'distance_score': 900}, {'Id-mentor': 302, 'Id-mentee': 201.0, 'distance_score': 900}, {'Id-mentor': 2, 'Id-mentee': 72.0, 'distance_score': 900}, {'Id-mentor': 329, 'Id-mentee': 111.0, 'distance_score': 900}, {'Id-mentor': 320, 'Id-mentee': 147.0, 'distance_score': 900}, {'Id-mentor': 70, 'Id-mentee': 145.0, 'distance_score': 900}, {'Id-mentor': 317, 'Id-mentee': 183.0, 'distance_score': 900}, {'Id-mentor': 322, 'Id-mentee': 102.0, 'distance_score': 900}, {'Id-mentor': 306, 'Id-mentee': 96.0, 'distance_score': 900}, {'Id-mentor': 147, 'Id-mentee': 146.0, 'distance_score': 900}, {'Id-mentor': 313, 'Id-mentee': 240.0, 'distance_score': 900}, {'Id-mentor': 154, 'Id-mentee': 135.0, 'distance_score': 900}, {'Id-mentor': 300, 'Id-mentee': 109.0, 'distance_score': 950}, {'Id-mentor': 141, 'Id-mentee': 178.0, 'distance_score': 950}, {'Id-mentor': 311, 'Id-mentee': 196.0, 'distance_score': 950}, {'Id-mentor': 135, 'Id-mentee': 199.0, 'distance_score': 950}, {'Id-mentor': 318, 'Id-mentee': 85.0, 'distance_score': 950}, {'Id-mentor': 312, 'Id-mentee': 59.0, 'distance_score': 950}, {'Id-mentor': 310, 'Id-mentee': 231.0, 'distance_score': 950}, {'Id-mentor': 115, 'Id-mentee': 56.0, 'distance_score': 950}, {'Id-mentor': 315, 'Id-mentee': 186.0, 'distance_score': 950}, {'Id-mentor': 186, 'Id-mentee': 90.0, 'distance_score': 950}, {'Id-mentor': 182, 'Id-mentee': 149.0, 'distance_score': 950}, {'Id-mentor': 228, 'Id-mentee': 227.0, 'distance_score': 950}, {'Id-mentor': 155, 'Id-mentee': 155.0, 'distance_score': 950}, {'Id-mentor': 157, 'Id-mentee': 228.0, 'distance_score': 950}, {'Id-mentor': 305, 'Id-mentee': 140.0, 'distance_score': 950}, {'Id-mentor': 31, 'Id-mentee': 116.0, 'distance_score': 950}, {'Id-mentor': 327, 'Id-mentee': 122.0, 'distance_score': 950}, {'Id-mentor': 33, 'Id-mentee': 9.0, 'distance_score': 950}, {'Id-mentor': 307, 'Id-mentee': 223.0, 'distance_score': 950}, {'Id-mentor': 54, 'Id-mentee': 80.0, 'distance_score': 950}, {'Id-mentor': 304, 'Id-mentee': 131.0, 'distance_score': 950}, {'Id-mentor': 309, 'Id-mentee': 57.0, 'distance_score': 950}, {'Id-mentor': 326, 'Id-mentee': 103.0, 'distance_score': 950}, {'Id-mentor': 6, 'Id-mentee': 33.0, 'distance_score': 950}, {'Id-mentor': 325, 'Id-mentee': 14.0, 'distance_score': 950}, {'Id-mentor': 303, 'Id-mentee': 142.0, 'distance_score': 950}, {'Id-mentor': 324, 'Id-mentee': 212.0, 'distance_score': 950}, {'Id-mentor': 308, 'Id-mentee': 206.0, 'distance_score': 1000}, {'Id-mentor': 323, 'Id-mentee': 99.0, 'distance_score': 1000}]\n"
          ]
        }
      ],
      "source": [
        "matched_mentors = {}\n",
        "matched_mentees = {}\n",
        "matched_list = []\n",
        "for index, row in combined.iterrows():\n",
        "    if row['Id-mentor'] not in matched_mentors:\n",
        "        matched_mentors[row['Id-mentor']] = 0\n",
        "    if row['Id-mentee'] not in matched_mentees:\n",
        "        matched_mentees[row['Id-mentee']] = 0\n",
        "    if matched_mentors[row['Id-mentor']] >=1:\n",
        "        continue\n",
        "    if matched_mentees[row['Id-mentee']] >=1:\n",
        "        continue\n",
        "    matched_mentors[row['Id-mentor']] = matched_mentors[row['Id-mentor']] + 1\n",
        "    matched_mentees[row['Id-mentee']] = matched_mentees[row['Id-mentee']] + 1\n",
        "    matched_list.append({'Id-mentor':row['Id-mentor'],'Id-mentee':row['Id-mentee'], 'distance_score':row['distance_score']})\n",
        "print(matched_list)\n",
        "#print(matched_mentors)\n",
        "#print(matched_mentees)"
      ]
    }
  ],
  "metadata": {
    "kernelspec": {
      "display_name": "Python 3",
      "language": "python",
      "name": "python3"
    },
    "language_info": {
      "codemirror_mode": {
        "name": "ipython",
        "version": 3
      },
      "file_extension": ".py",
      "mimetype": "text/x-python",
      "name": "python",
      "nbconvert_exporter": "python",
      "pygments_lexer": "ipython3",
      "version": "3.11.4"
    },
    "orig_nbformat": 4,
    "colab": {
      "provenance": []
    }
  },
  "nbformat": 4,
  "nbformat_minor": 0
}