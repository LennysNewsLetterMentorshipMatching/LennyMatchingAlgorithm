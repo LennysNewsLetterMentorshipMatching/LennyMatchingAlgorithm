{
  "cells": [
    {
      "cell_type": "code",
      "source": [
        "# Import PyDrive and associated libraries.\n",
        "# This only needs to be done once per notebook.\n",
        "from pydrive.auth import GoogleAuth\n",
        "from pydrive.drive import GoogleDrive\n",
        "from google.colab import auth\n",
        "from oauth2client.client import GoogleCredentials\n",
        "\n",
        "# Authenticate and create the PyDrive client.\n",
        "# This only needs to be done once per notebook.\n",
        "auth.authenticate_user()\n",
        "gauth = GoogleAuth()\n",
        "gauth.credentials = GoogleCredentials.get_application_default()\n",
        "drive = GoogleDrive(gauth)\n",
        "\n",
        "# Download a file based on its file ID.\n",
        "#\n",
        "# A file ID looks like: laggVyWshwcyP6kEI-y_W3P8D26sz\n",
        "\n",
        "mentees = '1RSs3hAKgtXYfAc5EKBJOS2hzLf3PokIU'\n",
        "mentors = '1K6B-ELJhb16ZLRLcN0leEd_ivQqm-Mg1'\n",
        "\n",
        "mentees_downloaded = drive.CreateFile({'id': mentees})\n",
        "mentors_downloaded = drive.CreateFile({'id': mentors})\n",
        "\n",
        "mentees_downloaded.GetContentFile('Cohort 3 Data - Mentees.csv')\n",
        "mentors_downloaded.GetContentFile('Cohort 3 Data - Mentors.csv')"
      ],
      "metadata": {
        "id": "7_q77lPyawa8"
      },
      "execution_count": 46,
      "outputs": []
    },
    {
      "cell_type": "code",
      "execution_count": 47,
      "metadata": {
        "id": "7G7hSdTLXMBg"
      },
      "outputs": [],
      "source": [
        "import pandas as pd\n",
        "import numpy as np\n",
        "mentees = pd.read_csv('Cohort 3 Data - Mentees.csv')\n",
        "mentors = pd.read_csv('Cohort 3 Data - Mentors.csv')\n",
        "#Clean DF\n",
        "mentees_flitered = mentees.filter(items=[\"Id\",\n",
        "                 \"What's your email?\",\n",
        "                 'What role are you looking for help in?',\n",
        "                 \"Which best describes the position you're in?\",\n",
        "                 'How many years of professional experience do you have in your current role?',\n",
        "                 'What is the main goal you want help with from your mentor?',\n",
        "                 'How many years of experience do you have as a founder?',\n",
        "                 'What industry are you looking for help with?',\n",
        "                 'What company stage do you want your mentor to be in?',\n",
        "                 'What timezone are you in?',\n",
        "                 'Have you been matched before?',\n",
        "                 \"Tell us why you want to be a part of Lenny's Mentorship Program!\",\n",
        "                 'What is the main goal you want help with from your mentor?'\n",
        "                ])\n",
        "\n",
        "mentors_flitered = mentors.filter(items=[\"Id\",\n",
        "                 \"What's your email?\",\n",
        "                 'Which functional role do you want your mentee to be in?',\n",
        "                 \"Which best describes the position you're in?\",\n",
        "                 'How many years of professional experience do you have in the role you want to be a mentor for?',\n",
        "                 'Which goals can you help your mentee with?',\n",
        "                 'How many years of experience do you have as a founder?',\n",
        "                 'What industry can you help your mentee with?',\n",
        "                 'What company stage do you want your mentee to be in?',\n",
        "                 'What timezone are you in?',\n",
        "                 'Have you been matched before?',\n",
        "                 'What goals can you help your mentee with?'\n",
        "                ])\n",
        "#print(mentors.columns.values)\n",
        "#print(mentors_flitered.columns.values)\n",
        "#display(mentees_flitered)\n",
        "#display(mentors_flitered)\n"
      ]
    },
    {
      "cell_type": "code",
      "execution_count": 48,
      "metadata": {
        "id": "ET5aNUoJXMBh"
      },
      "outputs": [],
      "source": [
        "#Input comma seperated list of value\n",
        "#Output list of values with whitespace stipped off\n",
        "def clean_multiselect(x):\n",
        "    if isinstance(x, str):\n",
        "        return list(map(str.strip,x.split(',')))\n",
        "    else:\n",
        "        return []\n"
      ]
    },
    {
      "cell_type": "code",
      "execution_count": 49,
      "metadata": {
        "id": "ZYkiJDm-XMBh"
      },
      "outputs": [],
      "source": [
        "#Input Dataframe and multi-select field to Binarize\n",
        "from sklearn.preprocessing import MultiLabelBinarizer\n",
        "def MultiLableBinarize_df(input_frame, collumn_name):\n",
        "    nested_list = list(map(clean_multiselect,input_frame[collumn_name].to_list()))\n",
        "    mlb = MultiLabelBinarizer()\n",
        "    mlb_df = pd.DataFrame(mlb.fit_transform(nested_list), columns=mlb.classes_)\n",
        "    bigger = pd.concat([input_frame,mlb_df],axis=1)\n",
        "    return bigger\n"
      ]
    },
    {
      "cell_type": "code",
      "execution_count": 50,
      "metadata": {
        "id": "wpNX-NECXMBh"
      },
      "outputs": [],
      "source": [
        "class multiSelect:\n",
        "    def __init__(self, data = ['empty']):\n",
        "        if isinstance(data, str):\n",
        "            self.data = clean_multiselect(data)\n",
        "        else:\n",
        "            self.data = data\n",
        "    def __repr__(self):\n",
        "        return repr(self.data)"
      ]
    },
    {
      "cell_type": "code",
      "execution_count": 51,
      "metadata": {
        "id": "KsSBIj1-XMBh"
      },
      "outputs": [],
      "source": [
        "class distanceEstimator:\n",
        "    def __init__(x):\n",
        "        1==1\n",
        "    def estimateDistance(self, row):\n",
        "        #print(mentors.columns.values)\n",
        "        mentee = row['What industry are you looking for help with?'].data\n",
        "        mentor = row['What industry can you help your mentee with?'].data\n",
        "\n",
        "        distance_score = 1000\n",
        "        if isinstance(mentee,list) and isinstance(mentor,list):\n",
        "            for industry in mentor:\n",
        "                if industry in mentee:\n",
        "                    distance_score = distance_score - 50\n",
        "        return distance_score"
      ]
    },
    {
      "cell_type": "code",
      "execution_count": 52,
      "metadata": {
        "id": "ZmWJQniwXMBh"
      },
      "outputs": [],
      "source": [
        "mentees_flitered['What industry are you looking for help with?'] = mentees_flitered['What industry are you looking for help with?'].apply(multiSelect)\n",
        "mentors_flitered['What industry can you help your mentee with?'] = mentors_flitered['What industry can you help your mentee with?'].apply(multiSelect)\n",
        "\n",
        "combined = mentors_flitered.join(mentees_flitered,how='cross',lsuffix='-mentor',rsuffix='-mentee')"
      ]
    },
    {
      "cell_type": "code",
      "execution_count": 53,
      "metadata": {
        "id": "i9N59PRFXMBh"
      },
      "outputs": [],
      "source": [
        "dE = distanceEstimator()\n",
        "combined['distance_score'] = combined.apply(dE.estimateDistance, axis = 'columns')\n",
        "combined = combined.sort_values(by=['distance_score'])\n",
        "#display(combined)"
      ]
    },
    {
      "cell_type": "code",
      "execution_count": 54,
      "metadata": {
        "id": "F__SZXxxXMBi"
      },
      "outputs": [],
      "source": [
        "matched_mentors = {}\n",
        "matched_mentees = {}\n",
        "matched_list = []\n",
        "for index, row in combined.iterrows():\n",
        "    if row['Id-mentor'] not in matched_mentors:\n",
        "        matched_mentors[row['Id-mentor']] = 0\n",
        "    if row['Id-mentee'] not in matched_mentees:\n",
        "        matched_mentees[row['Id-mentee']] = 0\n",
        "    if matched_mentors[row['Id-mentor']] >=1:\n",
        "        continue\n",
        "    if matched_mentees[row['Id-mentee']] >=1:\n",
        "        continue\n",
        "    if row['Id-mentee'] == row['Id-mentor']:\n",
        "        continue\n",
        "    matched_mentors[row['Id-mentor']] = matched_mentors[row['Id-mentor']] + 1\n",
        "    matched_mentees[row['Id-mentee']] = matched_mentees[row['Id-mentee']] + 1\n",
        "    matched_list.append({'Id-mentor':row['Id-mentor'],'Id-mentee':row['Id-mentee'], 'distance_score':row['distance_score']})\n",
        "\n",
        "results = pd.DataFrame(matched_list)\n",
        "reuslts_wide = results.join(mentors_flitered.set_index('Id'),on = 'Id-mentor', rsuffix='-mentor').join(mentees_flitered.set_index('Id'),on = 'Id-mentee',lsuffix='-mentor', rsuffix='-mentee')\n",
        "\n",
        "reuslts_wide.to_csv('matched.csv', index=False)\n",
        "#print(matched_mentors)\n",
        "#print(matched_mentees)"
      ]
    }
  ],
  "metadata": {
    "kernelspec": {
      "display_name": "Python 3",
      "language": "python",
      "name": "python3"
    },
    "language_info": {
      "codemirror_mode": {
        "name": "ipython",
        "version": 3
      },
      "file_extension": ".py",
      "mimetype": "text/x-python",
      "name": "python",
      "nbconvert_exporter": "python",
      "pygments_lexer": "ipython3",
      "version": "3.11.4"
    },
    "orig_nbformat": 4,
    "colab": {
      "provenance": []
    }
  },
  "nbformat": 4,
  "nbformat_minor": 0
}