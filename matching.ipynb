{
  "cells": [
    {
      "cell_type": "code",
      "source": [
        "# Import PyDrive and associated libraries.\n",
        "# This only needs to be done once per notebook.\n",
        "from pydrive.auth import GoogleAuth\n",
        "from pydrive.drive import GoogleDrive\n",
        "from google.colab import auth\n",
        "from oauth2client.client import GoogleCredentials\n",
        "\n",
        "# Authenticate and create the PyDrive client.\n",
        "# This only needs to be done once per notebook.\n",
        "auth.authenticate_user()\n",
        "gauth = GoogleAuth()\n",
        "gauth.credentials = GoogleCredentials.get_application_default()\n",
        "drive = GoogleDrive(gauth)\n",
        "\n",
        "# Download a file based on its file ID.\n",
        "#\n",
        "# A file ID looks like: laggVyWshwcyP6kEI-y_W3P8D26sz\n",
        "\n",
        "mentees = '1RSs3hAKgtXYfAc5EKBJOS2hzLf3PokIU'\n",
        "mentors = '1K6B-ELJhb16ZLRLcN0leEd_ivQqm-Mg1'\n",
        "\n",
        "mentees_downloaded = drive.CreateFile({'id': mentees})\n",
        "mentors_downloaded = drive.CreateFile({'id': mentors})\n",
        "\n",
        "mentees_downloaded.GetContentFile('Cohort 3 Data - Mentees.csv')\n",
        "mentors_downloaded.GetContentFile('Cohort 3 Data - Mentors.csv')"
      ],
      "metadata": {
        "id": "7_q77lPyawa8"
      },
      "execution_count": 1,
      "outputs": []
    },
    {
      "cell_type": "code",
      "execution_count": 2,
      "metadata": {
        "colab": {
          "base_uri": "https://localhost:8080/"
        },
        "id": "7G7hSdTLXMBg",
        "outputId": "ec5ee10a-355e-4f05-e7d0-ac73a3fc1493"
      },
      "outputs": [
        {
          "output_type": "stream",
          "name": "stdout",
          "text": [
            "['Id' \"What's your email?\" \"What's your LinkedIn or Twitter?\"\n",
            " 'Which functional role do you want your mentee to be in?'\n",
            " \"Which best describes the position you're in?\"\n",
            " 'How many years of professional experience do you have in the role you want to be a mentor for?'\n",
            " 'Which goals can you help your mentee with?'\n",
            " 'How many years of experience do you have as a founder?'\n",
            " 'What industry can you help your mentee with?'\n",
            " 'What company stage do you want your mentee to be in?'\n",
            " 'What timezone are you in?' 'Have you been matched before?'\n",
            " 'Do you have a scheduling link?'\n",
            " 'What goals can you help your mentee with?']\n",
            "['Do you have a scheduling link?' 'Have you been matched before?'\n",
            " 'How many years of experience do you have as a founder?'\n",
            " 'How many years of professional experience do you have in your current role?'\n",
            " 'Id' 'Prioritized'\n",
            " \"Tell us why you want to be a part of Lenny's Mentorship Program!\"\n",
            " 'What company stage do you want your mentor to be in?'\n",
            " 'What industry are you looking for help with?'\n",
            " 'What is the main goal you want help with from your mentor?'\n",
            " 'What is the main goal you want help with from your mentor?.1'\n",
            " 'What role are you looking for help in?' 'What timezone are you in?'\n",
            " \"What's your LinkedIn or Twitter?\" \"What's your email?\"\n",
            " \"Which best describes the position you're in?\"]\n"
          ]
        }
      ],
      "source": [
        "import pandas as pd\n",
        "import numpy as np\n",
        "mentees = pd.read_csv('Cohort 3 Data - Mentees.csv',dtype = {'Id': str})\n",
        "mentors = pd.read_csv('Cohort 3 Data - Mentors.csv',dtype = {'Id': str})\n",
        "#Clean DF\n",
        "#define function to merge columns with same names together\n",
        "def same_merge(x): return ','.join(x[x.notnull()].astype(str))\n",
        "\n",
        "#define new DataFrame that merges columns with same names together\n",
        "mentees = mentees.groupby(level=0, axis=1).apply(lambda x: x.apply(same_merge, axis=1))\n",
        "\n",
        "mentees_flitered = mentees.filter(items=[\"Id\",\n",
        "                 \"What's your email?\",\n",
        "                 'What role are you looking for help in?',\n",
        "                 \"Which best describes the position you're in?\",\n",
        "                 'How many years of professional experience do you have in your current role?',\n",
        "                 'What is the main goal you want help with from your mentor?',\n",
        "                 'How many years of experience do you have as a founder?',\n",
        "                 'What industry are you looking for help with?',\n",
        "                 'What company stage do you want your mentor to be in?',\n",
        "                 'What timezone are you in?',\n",
        "                 'Have you been matched before?',\n",
        "                 \"Tell us why you want to be a part of Lenny's Mentorship Program!\"\n",
        "                ])\n",
        "\n",
        "mentors_flitered = mentors.filter(items=[\"Id\",\n",
        "                 \"What's your email?\",\n",
        "                 'Which functional role do you want your mentee to be in?',\n",
        "                 \"Which best describes the position you're in?\",\n",
        "                 'How many years of professional experience do you have in the role you want to be a mentor for?',\n",
        "                 'Which goals can you help your mentee with?',\n",
        "                 'How many years of experience do you have as a founder?',\n",
        "                 'What industry can you help your mentee with?',\n",
        "                 'What company stage do you want your mentee to be in?',\n",
        "                 'What timezone are you in?',\n",
        "                 'Have you been matched before?',\n",
        "                 'What goals can you help your mentee with?'\n",
        "                ])\n",
        "print(mentors.columns.values)\n",
        "print(mentees.columns.values)\n",
        "#print(mentors_flitered.columns.values)\n",
        "#display(mentees_flitered)\n",
        "#display(mentors_flitered)\n"
      ]
    },
    {
      "cell_type": "code",
      "execution_count": 3,
      "metadata": {
        "id": "ET5aNUoJXMBh"
      },
      "outputs": [],
      "source": [
        "#Input comma seperated list of value\n",
        "#Output list of values with whitespace stipped off\n",
        "def clean_multiselect(x):\n",
        "    if isinstance(x, str):\n",
        "        return list(map(str.strip,x.split(',')))\n",
        "    else:\n",
        "        return []\n"
      ]
    },
    {
      "cell_type": "code",
      "execution_count": 4,
      "metadata": {
        "id": "ZYkiJDm-XMBh"
      },
      "outputs": [],
      "source": [
        "#Input Dataframe and multi-select field to Binarize\n",
        "from sklearn.preprocessing import MultiLabelBinarizer\n",
        "def MultiLableBinarize_df(input_frame, collumn_name):\n",
        "    nested_list = list(map(clean_multiselect,input_frame[collumn_name].to_list()))\n",
        "    mlb = MultiLabelBinarizer()\n",
        "    mlb_df = pd.DataFrame(mlb.fit_transform(nested_list), columns=mlb.classes_)\n",
        "    bigger = pd.concat([input_frame,mlb_df],axis=1)\n",
        "    return bigger\n"
      ]
    },
    {
      "cell_type": "code",
      "execution_count": 5,
      "metadata": {
        "id": "wpNX-NECXMBh"
      },
      "outputs": [],
      "source": [
        "class multiSelect:\n",
        "    def __init__(self, data = ['empty']):\n",
        "        if isinstance(data, str):\n",
        "            self.data = clean_multiselect(data)\n",
        "        else:\n",
        "            self.data = data\n",
        "    def __repr__(self):\n",
        "        return repr(self.data)"
      ]
    },
    {
      "cell_type": "code",
      "execution_count": 6,
      "metadata": {
        "id": "KsSBIj1-XMBh"
      },
      "outputs": [],
      "source": [
        "class distanceEstimator:\n",
        "    def __init__(self, mentor_mentee_question_mapping = []):\n",
        "        self.mentor_mentee_question_mapping = mentor_mentee_question_mapping\n",
        "    def multiSelectDistance(self,row,mentee_selection,mentor_selection):\n",
        "        distance_score = 0\n",
        "        if isinstance(mentee_selection,list) and isinstance(mentor_selection,list):\n",
        "            for selection in mentee_selection:\n",
        "                if selection in mentor_selection:\n",
        "                    distance_score = distance_score - 10\n",
        "        return distance_score\n",
        "    def estimateDistance(self, row):\n",
        "        distance_score = 1000\n",
        "        for mapping in self.mentor_mentee_question_mapping:\n",
        "          if mapping['question_type'] == 'multi-select':\n",
        "            mentee_selection = row[mapping['mentee_question']].data\n",
        "            mentor_selection = row[mapping['mentor_question']].data\n",
        "            distance_score = distance_score + self.multiSelectDistance(row,mentee_selection,mentor_selection)*mapping['question_weight']\n",
        "\n",
        "        return distance_score"
      ]
    },
    {
      "cell_type": "code",
      "source": [
        "print(mentees_flitered.columns.values)\n",
        "print(mentors_flitered.columns.values)"
      ],
      "metadata": {
        "colab": {
          "base_uri": "https://localhost:8080/"
        },
        "id": "eF3e-AScn0k7",
        "outputId": "4ccc3b60-373f-4bae-b2ba-79447763612b"
      },
      "execution_count": 7,
      "outputs": [
        {
          "output_type": "stream",
          "name": "stdout",
          "text": [
            "['Id' \"What's your email?\" 'What role are you looking for help in?'\n",
            " \"Which best describes the position you're in?\"\n",
            " 'How many years of professional experience do you have in your current role?'\n",
            " 'What is the main goal you want help with from your mentor?'\n",
            " 'How many years of experience do you have as a founder?'\n",
            " 'What industry are you looking for help with?'\n",
            " 'What company stage do you want your mentor to be in?'\n",
            " 'What timezone are you in?' 'Have you been matched before?'\n",
            " \"Tell us why you want to be a part of Lenny's Mentorship Program!\"]\n",
            "['Id' \"What's your email?\"\n",
            " 'Which functional role do you want your mentee to be in?'\n",
            " \"Which best describes the position you're in?\"\n",
            " 'How many years of professional experience do you have in the role you want to be a mentor for?'\n",
            " 'Which goals can you help your mentee with?'\n",
            " 'How many years of experience do you have as a founder?'\n",
            " 'What industry can you help your mentee with?'\n",
            " 'What company stage do you want your mentee to be in?'\n",
            " 'What timezone are you in?' 'Have you been matched before?'\n",
            " 'What goals can you help your mentee with?']\n"
          ]
        }
      ]
    },
    {
      "cell_type": "code",
      "execution_count": 8,
      "metadata": {
        "id": "ZmWJQniwXMBh"
      },
      "outputs": [],
      "source": [
        "mentor_mentee_question_mapping = [{'mentee_question':'What industry are you looking for help with?',\n",
        "                                   'mentor_question':'What industry can you help your mentee with?',\n",
        "                                   'question_type': 'multi-select',\n",
        "                                   'question_weight': 4,},\n",
        "                                  {'mentee_question':'What is the main goal you want help with from your mentor?',\n",
        "                                   'mentor_question':'Which goals can you help your mentee with?',\n",
        "                                   'question_type': 'multi-select',\n",
        "                                   'question_weight': 5,},\n",
        "                                  {'mentee_question':'What company stage do you want your mentor to be in?',\n",
        "                                   'mentor_question':'What company stage do you want your mentee to be in?',\n",
        "                                   'question_type': 'multi-select',\n",
        "                                   'question_weight': 1,}\n",
        "                                  ]\n",
        "\n",
        "for mapping in mentor_mentee_question_mapping:\n",
        "  if mapping['question_type'] == 'multi-select':\n",
        "    mentees_flitered[mapping['mentee_question']] = mentees_flitered[mapping['mentee_question']].apply(multiSelect)\n",
        "    mentors_flitered[mapping['mentor_question']] = mentors_flitered[mapping['mentor_question']].apply(multiSelect)\n",
        "\n",
        "\n",
        "combined = mentors_flitered.join(mentees_flitered,how='cross',lsuffix='-mentor',rsuffix='-mentee')"
      ]
    },
    {
      "cell_type": "code",
      "execution_count": 9,
      "metadata": {
        "id": "i9N59PRFXMBh"
      },
      "outputs": [],
      "source": [
        "dE = distanceEstimator(mentor_mentee_question_mapping)\n",
        "combined['distance_score'] = combined.apply(dE.estimateDistance, axis = 'columns')\n",
        "combined = combined.sort_values(by=['distance_score'])\n",
        "#display(combined)"
      ]
    },
    {
      "cell_type": "code",
      "execution_count": 11,
      "metadata": {
        "colab": {
          "base_uri": "https://localhost:8080/"
        },
        "id": "F__SZXxxXMBi",
        "outputId": "7acdbc62-1098-4864-b444-22f8b97669e2"
      },
      "outputs": [
        {
          "output_type": "stream",
          "name": "stdout",
          "text": [
            "skipped, matching to self\n",
            "skipped, matching to self\n"
          ]
        }
      ],
      "source": [
        "matched_mentors = {}\n",
        "matched_mentees = {}\n",
        "matched_list = []\n",
        "for index, row in combined.iterrows():\n",
        "    #print(type(row['Id-mentor']))\n",
        "    #print(type(row['Id-mentee']))\n",
        "    #print(row['Id-mentee'] == row['Id-mentor'])\n",
        "    if row['Id-mentor'] not in matched_mentors:\n",
        "        matched_mentors[row['Id-mentor']] = 0\n",
        "    if row['Id-mentee'] not in matched_mentees:\n",
        "        matched_mentees[row['Id-mentee']] = 0\n",
        "    if matched_mentors[row['Id-mentor']] >=1:\n",
        "        continue\n",
        "    if matched_mentees[row['Id-mentee']] >=1:\n",
        "        continue\n",
        "    if row['Id-mentee'] == row['Id-mentor']:\n",
        "        #print('skipped, matching to self')\n",
        "        continue\n",
        "    matched_mentors[row['Id-mentor']] = matched_mentors[row['Id-mentor']] + 1\n",
        "    matched_mentees[row['Id-mentee']] = matched_mentees[row['Id-mentee']] + 1\n",
        "    matched_list.append({'Id-mentor':row['Id-mentor'],'Id-mentee':row['Id-mentee'], 'distance_score':row['distance_score']})\n",
        "\n",
        "results = pd.DataFrame(matched_list)\n",
        "reuslts_wide = results.join(mentors_flitered.set_index('Id'),on = 'Id-mentor', rsuffix='-mentor').join(mentees_flitered.set_index('Id'),on = 'Id-mentee',lsuffix='-mentor', rsuffix='-mentee')\n",
        "\n",
        "reuslts_wide.to_csv('matched.csv', index=False)\n",
        "#print(matched_mentors)\n",
        "#print(matched_mentees)"
      ]
    }
  ],
  "metadata": {
    "kernelspec": {
      "display_name": "Python 3",
      "language": "python",
      "name": "python3"
    },
    "language_info": {
      "codemirror_mode": {
        "name": "ipython",
        "version": 3
      },
      "file_extension": ".py",
      "mimetype": "text/x-python",
      "name": "python",
      "nbconvert_exporter": "python",
      "pygments_lexer": "ipython3",
      "version": "3.11.4"
    },
    "orig_nbformat": 4,
    "colab": {
      "provenance": []
    }
  },
  "nbformat": 4,
  "nbformat_minor": 0
}